{
 "cells": [
  {
   "cell_type": "markdown",
   "metadata": {},
   "source": [
    "### Structural Equation Models"
   ]
  },
  {
   "cell_type": "markdown",
   "metadata": {},
   "source": [
    " \"SEMs\" are frequently used for causal modeling. In most contemporary uses they are generalizations of the kind of path model described by Sewall Wright. \n",
    "\n",
    "A SEM can have paths, or \"structural\" relations between variables that are either directed or undirected.  There can be exogenous and endogenous variables in a SEM. A SEM can also have _measurement models_ that consist of multiple, fallible indicators defining latent variable.  These measurement are essentially confirmatory factor models.  In general, a SEM can consist of manifest and latent variables in a network of structural relations. \n",
    "\n",
    "SEMs are usually estimated using a variance-covariance matrix of observed variables as the data, and typically using maximum likelihood methods, although simulation methods for estimating Bayesian versions have been used. Means are sometimes also used as input data when SEMs for different groups are to be compared.  Model fit is usually assess by considering some of a rather large number of fit statistics and indexes that have been developed over the years,  the central $\\chi^2$ statistic and the AIC.  Nested models can be compared by statistical difference tests, or by comparing indexes. Equivalence of models for groups can be tested for by assessing the impacts of constraining the parameters to be equal."
   ]
  },
  {
   "cell_type": "markdown",
   "metadata": {},
   "source": [
    "### Bayesian Belief Networks"
   ]
  },
  {
   "cell_type": "markdown",
   "metadata": {},
   "source": [
    " \"BBNs\" are DAGs whose nodes are probability functions. Endogenous nodes are conditioned by their parent nodes. Variables in a BBN can be observed or latent.  They are typically discrete, and so the probability distribution of a node consists of a table. Pearl has used BBNs extensively in his theory of probabilistic causality, of which his \"do-calculus\" is part.  We'll be getting to the do-calc subsequently.   \n",
    " \n",
    "Each node contains a set of probabilities of discrete, mutually exclusive events or conditions.  \"Child\" nodes can have multiple parents, and the probabilities in a child node are conditional on the probabilities of its parents.  A network on the whole has a joint probability distribution that reflects the state of all of its nodes.  \n",
    "\n",
    "When data results in a node being observed, there is no longer uncertainty about the data of the node.  The category corresponding to the observation then as a probability of 1.0, and the remaining categories are 0.0.  This joint probability of the network will change as a result of the observation, the nature of which is determined by Bayes Theorem. The probabilities of the node's parents (if any) and children (if any) will also change.  That is, observing the date of its nodes updates its parents and its children. \n"
   ]
  },
  {
   "cell_type": "markdown",
   "metadata": {},
   "source": [
    "### Return to the Burn Data"
   ]
  },
  {
   "cell_type": "markdown",
   "metadata": {},
   "source": [
    "Let's go back to consider the facial burn data we looked at earlier.  It turns out that the researchers originating the data published a SEM based on a version of the data we have:  \n",
    "\n",
    "![FaceBurn-path-diag.png](FaceBurn-path-diag.png)"
   ]
  },
  {
   "cell_type": "markdown",
   "metadata": {},
   "source": [
    "It's a SEM path diagramming convention to represent observed variables using squares, and latent variables using circles.  This particular diagram includes no unobserved, or latent, variables. Some are implied, however\n",
    "\n",
    "Directional arrows represent \"causal\" paths.  Double-ended arrows are used to represent correlation, and are usually drawn curved, as an arc. \n",
    "\n",
    "Here's an example SEM path diagram showing regression of one latent variable on another:\n",
    "\n",
    "![simple-SEM-path-dia.png](simple-SEM-path-dia.png)"
   ]
  },
  {
   "cell_type": "markdown",
   "metadata": {},
   "source": [
    "Here the e's are exogenous, unobserved disturbances.  The \"ind_'s\" are observed indicators of the two latent variables. There's usually one for each indicator.  The 0.6's  represent factor loadings. Chances are that they would have been constrained to be equal.  The 0.321 is a path coefficient."
   ]
  },
  {
   "cell_type": "markdown",
   "metadata": {},
   "source": [
    "### Specifying Models of the Burn Data"
   ]
  },
  {
   "cell_type": "markdown",
   "metadata": {},
   "source": [
    "Let's use `dagitty.net` to draw path diagrams for the following two models:  \n",
    "\n",
    "**model 1**  \n",
    "\n",
    "Selfesteem -> HADS  \n",
    "Selfesteem -> TBSA  \n",
    "TBSA -> HADS\n",
    "\n",
    "**QUESTION**: Where in this diagram should any necessary error disturbances go?  \n",
    "\n",
    "**model 2**  \n",
    "\n",
    "Selfesteem -> HADS  \n",
    "TBSA -> HADS\n",
    "\n",
    "**QUESTION**: Error disturbances?"
   ]
  },
  {
   "cell_type": "markdown",
   "metadata": {},
   "source": [
    "## **SWITCH TO THE R-SEMS HERE! ** \n",
    "\n",
    "Here's where we switch to R for a bit.  Open the R-SEMS notebook. An R kernel runs under it."
   ]
  }
 ],
 "metadata": {
  "hide_input": false,
  "kernelspec": {
   "display_name": "Python 3",
   "language": "python",
   "name": "python3"
  },
  "language_info": {
   "codemirror_mode": {
    "name": "ipython",
    "version": 3
   },
   "file_extension": ".py",
   "mimetype": "text/x-python",
   "name": "python",
   "nbconvert_exporter": "python",
   "pygments_lexer": "ipython3",
   "version": "3.6.5"
  },
  "latex_envs": {
   "LaTeX_envs_menu_present": true,
   "autoclose": false,
   "autocomplete": true,
   "bibliofile": "biblio.bib",
   "cite_by": "apalike",
   "current_citInitial": 1,
   "eqLabelWithNumbers": true,
   "eqNumInitial": 1,
   "hotkeys": {
    "equation": "Ctrl-E",
    "itemize": "Ctrl-I"
   },
   "labels_anchors": false,
   "latex_user_defs": false,
   "report_style_numbering": false,
   "user_envs_cfg": false
  },
  "toc": {
   "base_numbering": 1,
   "nav_menu": {},
   "number_sections": true,
   "sideBar": true,
   "skip_h1_title": false,
   "title_cell": "Table of Contents",
   "title_sidebar": "Contents",
   "toc_cell": false,
   "toc_position": {},
   "toc_section_display": true,
   "toc_window_display": false
  },
  "varInspector": {
   "cols": {
    "lenName": 16,
    "lenType": 16,
    "lenVar": 40
   },
   "kernels_config": {
    "python": {
     "delete_cmd_postfix": "",
     "delete_cmd_prefix": "del ",
     "library": "var_list.py",
     "varRefreshCmd": "print(var_dic_list())"
    },
    "r": {
     "delete_cmd_postfix": ") ",
     "delete_cmd_prefix": "rm(",
     "library": "var_list.r",
     "varRefreshCmd": "cat(var_dic_list()) "
    }
   },
   "types_to_exclude": [
    "module",
    "function",
    "builtin_function_or_method",
    "instance",
    "_Feature"
   ],
   "window_display": false
  }
 },
 "nbformat": 4,
 "nbformat_minor": 2
}
