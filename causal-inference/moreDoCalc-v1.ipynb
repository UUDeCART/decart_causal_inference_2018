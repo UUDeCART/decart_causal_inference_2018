{
 "cells": [
  {
   "cell_type": "markdown",
   "metadata": {},
   "source": [
    "More causal structural model tidbits, and a closer look at the \"do calculus\" (do-calc)"
   ]
  },
  {
   "cell_type": "markdown",
   "metadata": {},
   "source": [
    "Assume some model:\n",
    "\n",
    "\\begin{align}\n",
    "\\large{\n",
    "X \\to Y,W \\\\\n",
    "Z \\to X,Y \\\\\n",
    "Y \\to Z\n",
    "}\n",
    "\\end{align}\n"
   ]
  },
  {
   "cell_type": "markdown",
   "metadata": {},
   "source": [
    "The model implies a joint probability distribution, P(X,Y,Z,W).  \n",
    "\n",
    "The model can be \"mutated\" by \"cutting\" edges, or by \"fixing\" the values of variables, e.g. do(x), x=c, to get a model \"M.\"\n",
    "\n",
    "**A LAW OF CAUSAL INFERENCE: _Such a model M generates and evaluates all counterfactuals and inerventions_**"
   ]
  },
  {
   "cell_type": "markdown",
   "metadata": {},
   "source": [
    "**ANOTHER LAW OF CAUSAL INFERENCE: _Law of conditional independence, or \"d separation\"_**  \n",
    "\n",
    "Separation in M => independence in the distribution.  \n",
    "\n",
    "Every missing arrow signals independence, conditional on a _separating set_.  For example, \n",
    "\n",
    "\\begin{align}\n",
    "\\large{\n",
    "Z \\to X,Y\n",
    "}\n",
    "\\end{align}\n",
    "\n",
    "\\begin{align}\n",
    "\\large {\n",
    "(X~sep~Y~|~Z) \\implies ( X \\perp Y~|~Z)\n",
    "}\n",
    "\\end{align}"
   ]
  },
  {
   "cell_type": "markdown",
   "metadata": {},
   "source": [
    "**Back Door Criterion** eliminating confounding bias:  \n",
    "\n",
    "P(y | do (x)) is estimable if there is a set of Z variables that if conditioned on blocks all X-Y paths severed by the do(x) intervention, and no others.  Fo example, conditioning on Z, above, $\\implies ( X \\perp Y~|~Z)$. "
   ]
  },
  {
   "cell_type": "markdown",
   "metadata": {},
   "source": [
    "### Do Calculus"
   ]
  },
  {
   "cell_type": "markdown",
   "metadata": {},
   "source": [
    "Three rules for reducing the dependencies in a Model M to result in a new joint probability distribution reflecting the intervention, i.s. the result of do(x).  \n",
    "\n",
    "**RULE 1: Ignoring Observations**\n",
    "\n",
    "\\begin{align}\n",
    "\\large {\n",
    "p(y~|~do(x),~z,~w) = p(y~|~do(x),w) \\\\\n",
    "}\n",
    "\\end{align}\n",
    "\\begin{align}\n",
    "\\large{\n",
    "if~~(Y~\\perp~Z~|~X,~W), \\\\\n",
    "~and~given~all~arrows~into~X~are~severed.\n",
    "}\n",
    "\\end{align}"
   ]
  },
  {
   "cell_type": "markdown",
   "metadata": {},
   "source": [
    "**RULE 2: Action/Observation Exchange**  \n",
    "    \n",
    "\\begin{align}\n",
    "\\large {\n",
    "p(y~|~do(x),~do(z),~w) = p(y~|~do(x),z, w) \\\\\n",
    "}\n",
    "\\end{align}\n",
    "\\begin{align}\n",
    "\\large{\n",
    "if~~(Y~\\perp~Z~|~X,~W),\\\\\n",
    "~and~given~all~arrows~into~X~are~severed,~and~all~arrows~out~of~Z~are~severed\n",
    "}\n",
    "\\end{align}"
   ]
  },
  {
   "cell_type": "markdown",
   "metadata": {},
   "source": [
    "**RULE 3: Ignoring Actions**  \n",
    "\n",
    "\\begin{align}\n",
    "\\large {\n",
    "p(y~|~do(x),~do(z),~w) = p(y~|~do(x), w) \\\\\n",
    "}\n",
    "\\end{align}\n",
    "\\begin{align}\n",
    "\\large{\n",
    "if~(Y~\\perp~Z~|~X,~W),\\\\\n",
    "~and~given~all~arrows~into~X~are~severed,~and~all~arrows~out~of~Z~are~severed~within~levels~of~W\n",
    "}\n",
    "\\end{align}\n"
   ]
  },
  {
   "cell_type": "markdown",
   "metadata": {},
   "source": [
    "### Example Application"
   ]
  },
  {
   "cell_type": "markdown",
   "metadata": {},
   "source": [
    "The following is an example from Pearl.   It's about the effect of smoking, S, on lung cancer, C, intermedicated by tar deposits in the lungs, T.  There's an unobserved genetic factor U that confounds the relationship between S and C. \n",
    "\n",
    "\\begin{align}\n",
    "\\large{\n",
    "S \\to T \\\\\n",
    "T \\to C \\\\\n",
    "U \\to S,C \\\\\n",
    "}\n",
    "\\end{align}"
   ]
  },
  {
   "cell_type": "markdown",
   "metadata": {},
   "source": [
    " Step 1- (by probability axioms)\n",
    " \n",
    " \\begin{align*}\n",
    " \\large{\n",
    " P(c~|~do(s))=\\Sigma_t~P(c~|~do(s),t)*P(t~|~do(s))\n",
    " }\n",
    " \\end{align*}\n",
    " "
   ]
  },
  {
   "cell_type": "markdown",
   "metadata": {},
   "source": [
    "Step 2 - applying RULE 2  \n",
    "\n",
    "\\begin{align*}\n",
    " \\large{\n",
    " P(c~|~do(s))=\\Sigma_t~P(c~|~do(s),do(t))*P(t~|~do(s))\n",
    " }\n",
    " \\end{align*}\n",
    " \n",
    "\\begin{align}\n",
    "\\large{\n",
    "S \\to T \\\\\n",
    "U \\to C \\\\\n",
    "}\n",
    "\\end{align}"
   ]
  },
  {
   "cell_type": "markdown",
   "metadata": {},
   "source": [
    "Step 3 - applying RULE 2 again \n",
    "\n",
    "\\begin{align*}\n",
    " \\large{\n",
    " P(c~|~do(s))=\\Sigma_t~P(c~|~do(t))*P(t~|~s)\n",
    " }\n",
    " \\end{align*}\n",
    " \n",
    "\\begin{align}\n",
    "\\large{\n",
    "T \\to C \\\\\n",
    "U \\to S \\\\\n",
    "}\n",
    "\\end{align}"
   ]
  },
  {
   "cell_type": "markdown",
   "metadata": {},
   "source": [
    "Step 4 - appying RULE 3  \n",
    "\n",
    "\\begin{align*}\n",
    " \\large{\n",
    " P(c~|~do(s))=\\Sigma_t~P(c~|~do(t))*P(t~|~s)\n",
    " }\n",
    " \\end{align*}\n",
    " \n",
    "\\begin{align}\n",
    "\\large{\n",
    "T \\to C \\\\\n",
    "U \\to C \\\\\n",
    "}\n",
    "\\end{align}"
   ]
  },
  {
   "cell_type": "markdown",
   "metadata": {},
   "source": [
    "Step 4 -   \n",
    "\n",
    "\\begin{align}\n",
    "\\large{\n",
    "P(c ~|~do(s))=\\Sigma_s \\Sigma_t P(c~|~do(t),~s)*P(s~|~do(t))*P(t~|~s)\n",
    "}\n",
    "\\end{align}"
   ]
  },
  {
   "cell_type": "markdown",
   "metadata": {},
   "source": [
    "Step 5 - applying RULE 2  \n",
    "\n",
    "\\begin{align}\n",
    "\\large{\n",
    "P(c ~|~do(s))=\\Sigma_s \\Sigma_t P(c~|~t,~s)*P(s~|~do(t))*P(t~|~s)\n",
    "}\n",
    "\\end{align} \n",
    "\n",
    "\\begin{align}\n",
    "\\large{\n",
    "S \\to T \\\\\n",
    "U \\to S, C\n",
    "}\n",
    "\\end{align}"
   ]
  },
  {
   "cell_type": "markdown",
   "metadata": {},
   "source": [
    "Step 6 applying RULE 3  \n",
    "\n",
    "\\begin{align}\n",
    "\\large{\n",
    "P(c ~|~do(s))=\\Sigma_s \\Sigma_t P(c~|~t,~s)*P(s)*P(t~|~s)\n",
    "}\n",
    "\\end{align} \n",
    "\n",
    "\\begin{align}\n",
    "\\large{\n",
    "T \\to C \\\\\n",
    "U \\to S, C\n",
    "}\n",
    "\\end{align}"
   ]
  }
 ],
 "metadata": {
  "kernelspec": {
   "display_name": "Python 3",
   "language": "python",
   "name": "python3"
  },
  "language_info": {
   "codemirror_mode": {
    "name": "ipython",
    "version": 3
   },
   "file_extension": ".py",
   "mimetype": "text/x-python",
   "name": "python",
   "nbconvert_exporter": "python",
   "pygments_lexer": "ipython3",
   "version": "3.6.5"
  },
  "latex_envs": {
   "LaTeX_envs_menu_present": true,
   "autoclose": false,
   "autocomplete": true,
   "bibliofile": "biblio.bib",
   "cite_by": "apalike",
   "current_citInitial": 1,
   "eqLabelWithNumbers": true,
   "eqNumInitial": 1,
   "hotkeys": {
    "equation": "Ctrl-E",
    "itemize": "Ctrl-I"
   },
   "labels_anchors": false,
   "latex_user_defs": false,
   "report_style_numbering": false,
   "user_envs_cfg": false
  },
  "toc": {
   "base_numbering": 1,
   "nav_menu": {},
   "number_sections": true,
   "sideBar": true,
   "skip_h1_title": false,
   "title_cell": "Table of Contents",
   "title_sidebar": "Contents",
   "toc_cell": false,
   "toc_position": {},
   "toc_section_display": true,
   "toc_window_display": false
  },
  "varInspector": {
   "cols": {
    "lenName": 16,
    "lenType": 16,
    "lenVar": 40
   },
   "kernels_config": {
    "python": {
     "delete_cmd_postfix": "",
     "delete_cmd_prefix": "del ",
     "library": "var_list.py",
     "varRefreshCmd": "print(var_dic_list())"
    },
    "r": {
     "delete_cmd_postfix": ") ",
     "delete_cmd_prefix": "rm(",
     "library": "var_list.r",
     "varRefreshCmd": "cat(var_dic_list()) "
    }
   },
   "types_to_exclude": [
    "module",
    "function",
    "builtin_function_or_method",
    "instance",
    "_Feature"
   ],
   "window_display": false
  }
 },
 "nbformat": 4,
 "nbformat_minor": 2
}
