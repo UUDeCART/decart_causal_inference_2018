{
 "cells": [
  {
   "cell_type": "markdown",
   "metadata": {},
   "source": [
    "## Propensity Score Estimation and (IPW based) Causal Treatment Effect Estimation "
   ]
  },
  {
   "cell_type": "code",
   "execution_count": 1,
   "metadata": {},
   "outputs": [],
   "source": [
    "# install package for data access, may skip if already installed\n",
    "# install.packages(\"Matching\")"
   ]
  },
  {
   "cell_type": "markdown",
   "metadata": {},
   "source": [
    "## Dataset\n",
    "\n",
    "The Lalonde datasets are widely used in the causal inference literature.  The NSW Demonstration was a federally and privately funded program implemented in the mid-1970s to provide work experience for a period of 6-18 months (treatment) to individuals who had faced economic and social problems prior to enrollment in the program. Both the treatment and control groups participated in follow-up interviews at specific intervals. Lalonde offered a separate analysis of the male and female participants in his 1986 paper\n",
    "\n",
    "**Robert Lalonde (1986), \"Evaluating the Econometric Evaluations of Training Programs,\" American Economic Review, Vol. 76, pp. 604-620**\n",
    "\n",
    "The dataset employed here is further filtered by Dehejia-Wahha, which is a subset of Lalonde's NSW experimental data, which is a male only subset with complete information on earnings in 1974 (RE74) as a pre-intervention variable.\n",
    "\n",
    "**Dehejia, Rajeev H., and Sadek Wahba (1999) \"Causal Effects in Non-Experimental Studies: Reevaluating the Evaluation of Training Programs,\" Journal of the American Statistical Association, Vol. 94, No. 448, pp. 1053-1062**"
   ]
  },
  {
   "cell_type": "code",
   "execution_count": 3,
   "metadata": {},
   "outputs": [
    {
     "data": {
      "text/html": [
       "<table>\n",
       "<thead><tr><th scope=col>age</th><th scope=col>educ</th><th scope=col>black</th><th scope=col>hisp</th><th scope=col>married</th><th scope=col>nodegr</th><th scope=col>re74</th><th scope=col>re75</th><th scope=col>re78</th><th scope=col>u74</th><th scope=col>u75</th><th scope=col>treat</th></tr></thead>\n",
       "<tbody>\n",
       "\t<tr><td>37      </td><td>11      </td><td>1       </td><td>0       </td><td>1       </td><td>1       </td><td>0       </td><td>0       </td><td> 9930.05</td><td>1       </td><td>1       </td><td>1       </td></tr>\n",
       "\t<tr><td>22      </td><td> 9      </td><td>0       </td><td>1       </td><td>0       </td><td>1       </td><td>0       </td><td>0       </td><td> 3595.89</td><td>1       </td><td>1       </td><td>1       </td></tr>\n",
       "\t<tr><td>30      </td><td>12      </td><td>1       </td><td>0       </td><td>0       </td><td>0       </td><td>0       </td><td>0       </td><td>24909.50</td><td>1       </td><td>1       </td><td>1       </td></tr>\n",
       "\t<tr><td>27      </td><td>11      </td><td>1       </td><td>0       </td><td>0       </td><td>1       </td><td>0       </td><td>0       </td><td> 7506.15</td><td>1       </td><td>1       </td><td>1       </td></tr>\n",
       "\t<tr><td>33      </td><td> 8      </td><td>1       </td><td>0       </td><td>0       </td><td>1       </td><td>0       </td><td>0       </td><td>  289.79</td><td>1       </td><td>1       </td><td>1       </td></tr>\n",
       "\t<tr><td>22      </td><td> 9      </td><td>1       </td><td>0       </td><td>0       </td><td>1       </td><td>0       </td><td>0       </td><td> 4056.49</td><td>1       </td><td>1       </td><td>1       </td></tr>\n",
       "</tbody>\n",
       "</table>\n"
      ],
      "text/latex": [
       "\\begin{tabular}{r|llllllllllll}\n",
       " age & educ & black & hisp & married & nodegr & re74 & re75 & re78 & u74 & u75 & treat\\\\\n",
       "\\hline\n",
       "\t 37       & 11       & 1        & 0        & 1        & 1        & 0        & 0        &  9930.05 & 1        & 1        & 1       \\\\\n",
       "\t 22       &  9       & 0        & 1        & 0        & 1        & 0        & 0        &  3595.89 & 1        & 1        & 1       \\\\\n",
       "\t 30       & 12       & 1        & 0        & 0        & 0        & 0        & 0        & 24909.50 & 1        & 1        & 1       \\\\\n",
       "\t 27       & 11       & 1        & 0        & 0        & 1        & 0        & 0        &  7506.15 & 1        & 1        & 1       \\\\\n",
       "\t 33       &  8       & 1        & 0        & 0        & 1        & 0        & 0        &   289.79 & 1        & 1        & 1       \\\\\n",
       "\t 22       &  9       & 1        & 0        & 0        & 1        & 0        & 0        &  4056.49 & 1        & 1        & 1       \\\\\n",
       "\\end{tabular}\n"
      ],
      "text/markdown": [
       "\n",
       "age | educ | black | hisp | married | nodegr | re74 | re75 | re78 | u74 | u75 | treat | \n",
       "|---|---|---|---|---|---|\n",
       "| 37       | 11       | 1        | 0        | 1        | 1        | 0        | 0        |  9930.05 | 1        | 1        | 1        | \n",
       "| 22       |  9       | 0        | 1        | 0        | 1        | 0        | 0        |  3595.89 | 1        | 1        | 1        | \n",
       "| 30       | 12       | 1        | 0        | 0        | 0        | 0        | 0        | 24909.50 | 1        | 1        | 1        | \n",
       "| 27       | 11       | 1        | 0        | 0        | 1        | 0        | 0        |  7506.15 | 1        | 1        | 1        | \n",
       "| 33       |  8       | 1        | 0        | 0        | 1        | 0        | 0        |   289.79 | 1        | 1        | 1        | \n",
       "| 22       |  9       | 1        | 0        | 0        | 1        | 0        | 0        |  4056.49 | 1        | 1        | 1        | \n",
       "\n",
       "\n"
      ],
      "text/plain": [
       "  age educ black hisp married nodegr re74 re75 re78     u74 u75 treat\n",
       "1 37  11   1     0    1       1      0    0     9930.05 1   1   1    \n",
       "2 22   9   0     1    0       1      0    0     3595.89 1   1   1    \n",
       "3 30  12   1     0    0       0      0    0    24909.50 1   1   1    \n",
       "4 27  11   1     0    0       1      0    0     7506.15 1   1   1    \n",
       "5 33   8   1     0    0       1      0    0      289.79 1   1   1    \n",
       "6 22   9   1     0    0       1      0    0     4056.49 1   1   1    "
      ]
     },
     "metadata": {},
     "output_type": "display_data"
    }
   ],
   "source": [
    "# loading packages\n",
    "require(Matching)\n",
    "data(lalonde)\n",
    "head(lalonde)"
   ]
  },
  {
   "cell_type": "markdown",
   "metadata": {},
   "source": [
    "The outcome is re78 – post-intervention income.\n",
    "\n",
    "The treatment is treat – which is equal to 1 if the subject received the labor training and equal to 0 otherwise.\n",
    "\n",
    "The potential confounding variables are: age, educ, black, hispanic, married, nodegree, re74, re75."
   ]
  },
  {
   "cell_type": "markdown",
   "metadata": {},
   "source": [
    "#### Comparison of the distribution for all of the confounding variables between the two treatment groups"
   ]
  },
  {
   "cell_type": "code",
   "execution_count": 4,
   "metadata": {},
   "outputs": [
    {
     "data": {},
     "metadata": {},
     "output_type": "display_data"
    },
    {
     "data": {
      "image/png": "[encoded data removed]",
      "text/plain": [
       "plot without title"
      ]
     },
     "metadata": {},
     "output_type": "display_data"
    }
   ],
   "source": [
    "library(ggplot2)\n",
    "ggplot(data=lalonde,aes(x=re74))+geom_histogram(bins = 20)+facet_grid(~treat)+theme_bw()"
   ]
  },
  {
   "cell_type": "markdown",
   "metadata": {},
   "source": [
    "**unadjusted treatment effect**\n",
    "\n",
    "raw difference between the mean of real earnings in 1978 for treated subjects and the mean of real earnings in 1978 for untreated subjects"
   ]
  },
  {
   "cell_type": "code",
   "execution_count": 51,
   "metadata": {},
   "outputs": [
    {
     "data": {
      "text/html": [
       "1794.34308487526"
      ],
      "text/latex": [
       "1794.34308487526"
      ],
      "text/markdown": [
       "1794.34308487526"
      ],
      "text/plain": [
       "[1] 1794.343"
      ]
     },
     "metadata": {},
     "output_type": "display_data"
    }
   ],
   "source": [
    "mean(lalonde[lalonde$treat==1,]$re78) - mean(lalonde[lalonde$treat==0,]$re78)"
   ]
  },
  {
   "cell_type": "markdown",
   "metadata": {},
   "source": [
    "#### Propensity Score Estimation\n",
    "\n",
    "Fit a propensity score model, where the outcome is treatment. Include the 8 confounding variables in the model as predictors. logistic regression is employed here with no interaction terms or non-linear terms (such as squared terms). "
   ]
  },
  {
   "cell_type": "code",
   "execution_count": 5,
   "metadata": {},
   "outputs": [
    {
     "data": {
      "text/html": [
       "<ol class=list-inline>\n",
       "\t<li>0.194826995303385</li>\n",
       "\t<li>0.675560945800473</li>\n",
       "</ol>\n"
      ],
      "text/latex": [
       "\\begin{enumerate*}\n",
       "\\item 0.194826995303385\n",
       "\\item 0.675560945800473\n",
       "\\end{enumerate*}\n"
      ],
      "text/markdown": [
       "1. 0.194826995303385\n",
       "2. 0.675560945800473\n",
       "\n",
       "\n"
      ],
      "text/plain": [
       "[1] 0.1948270 0.6755609"
      ]
     },
     "metadata": {},
     "output_type": "display_data"
    }
   ],
   "source": [
    "fit <- glm(treat ~ age + educ + black + hisp + married + nodegr + re74 + re75,\n",
    "           data=lalonde, family = binomial(link = \"logit\"))\n",
    "prop_hat <- predict(fit, newdata = lalonde, type=\"response\")\n",
    "lalonde$pscore <- prop_hat\n",
    "range(prop_hat);"
   ]
  },
  {
   "cell_type": "markdown",
   "metadata": {},
   "source": [
    "###  Check Overlap of Propensity Scores"
   ]
  },
  {
   "cell_type": "code",
   "execution_count": 53,
   "metadata": {},
   "outputs": [
    {
     "data": {
      "image/png": "[encoded data removed]",
      "text/plain": [
       "plot without title"
      ]
     },
     "metadata": {},
     "output_type": "display_data"
    }
   ],
   "source": [
    "boxplot(split(lalonde$pscore, lalonde$treat), xlab=\"treat\",\n",
    "      ylab=\"estimated propensity scores\")"
   ]
  },
  {
   "cell_type": "code",
   "execution_count": 6,
   "metadata": {
    "scrolled": true
   },
   "outputs": [
    {
     "data": {},
     "metadata": {},
     "output_type": "display_data"
    },
    {
     "data": {
      "image/png": "[encoded data removed]",
      "text/plain": [
       "plot without title"
      ]
     },
     "metadata": {},
     "output_type": "display_data"
    }
   ],
   "source": [
    "library(ggplot2)\n",
    "g1 = ggplot(lalonde, aes(x=lalonde$pscore, group=treat, fill=treat)) + \n",
    "    geom_histogram(position=\"dodge\",binwidth=0.025) + theme_bw()\n",
    "g1"
   ]
  },
  {
   "cell_type": "markdown",
   "metadata": {},
   "source": [
    "### Inverse Probability of Treatment Weighting (IPTW)"
   ]
  },
  {
   "cell_type": "code",
   "execution_count": 7,
   "metadata": {},
   "outputs": [
    {
     "name": "stderr",
     "output_type": "stream",
     "text": [
      "Loading required package: grid\n",
      "Loading required package: Matrix\n",
      "Loading required package: survival\n",
      "\n",
      "Attaching package: ‘survey’\n",
      "\n",
      "The following object is masked from ‘package:graphics’:\n",
      "\n",
      "    dotchart\n",
      "\n"
     ]
    },
    {
     "data": {
      "text/plain": [
       "\n",
       "Call:\n",
       "svyglm(formula = re78 ~ treat, design = design.ate)\n",
       "\n",
       "Survey design:\n",
       "svydesign(ids = ~1, weights = ~ipw.ate, dat = lalonde)\n",
       "\n",
       "Coefficients:\n",
       "            Estimate Std. Error t value Pr(>|t|)    \n",
       "(Intercept)   4549.8      343.2  13.257   <2e-16 ***\n",
       "treat         1641.3      686.3   2.392   0.0172 *  \n",
       "---\n",
       "Signif. codes:  0 ‘***’ 0.001 ‘**’ 0.01 ‘*’ 0.05 ‘.’ 0.1 ‘ ’ 1\n",
       "\n",
       "(Dispersion parameter for gaussian family taken to be 45934134)\n",
       "\n",
       "Number of Fisher Scoring iterations: 2\n"
      ]
     },
     "metadata": {},
     "output_type": "display_data"
    }
   ],
   "source": [
    "#Calculate Weights\n",
    "library(survey)\n",
    "lalonde$ipw.ate <- ifelse(lalonde$treat==1, 1/lalonde$pscore, 1/(1-lalonde$pscore))\n",
    "#ATE Outcome Analysis\n",
    "design.ate <- svydesign(ids= ~1, weights= ~ipw.ate, dat=lalonde)\n",
    "mod.ipw.ate <- svyglm(re78 ~ treat, design=design.ate)\n",
    "summary(mod.ipw.ate)"
   ]
  },
  {
   "cell_type": "markdown",
   "metadata": {},
   "source": [
    "#### Comparison of the distribution for covariates between the two treatment groups in the weighted sample"
   ]
  },
  {
   "cell_type": "code",
   "execution_count": 8,
   "metadata": {},
   "outputs": [
    {
     "data": {},
     "metadata": {},
     "output_type": "display_data"
    },
    {
     "data": {
      "image/png": "[encoded data removed]",
      "text/plain": [
       "plot without title"
      ]
     },
     "metadata": {},
     "output_type": "display_data"
    }
   ],
   "source": [
    "ggplot(data=lalonde,aes(x=re74, weight = ipw.ate))+geom_histogram(bins = 20)+facet_grid(~treat)+theme_bw()"
   ]
  },
  {
   "cell_type": "code",
   "execution_count": 56,
   "metadata": {},
   "outputs": [
    {
     "data": {
      "text/html": [
       "6191.08458425989"
      ],
      "text/latex": [
       "6191.08458425989"
      ],
      "text/markdown": [
       "6191.08458425989"
      ],
      "text/plain": [
       "[1] 6191.085"
      ]
     },
     "metadata": {},
     "output_type": "display_data"
    },
    {
     "data": {
      "text/html": [
       "4549.76880132688"
      ],
      "text/latex": [
       "4549.76880132688"
      ],
      "text/markdown": [
       "4549.76880132688"
      ],
      "text/plain": [
       "[1] 4549.769"
      ]
     },
     "metadata": {},
     "output_type": "display_data"
    },
    {
     "data": {
      "text/html": [
       "1641.31578293301"
      ],
      "text/latex": [
       "1641.31578293301"
      ],
      "text/markdown": [
       "1641.31578293301"
      ],
      "text/plain": [
       "[1] 1641.316"
      ]
     },
     "metadata": {},
     "output_type": "display_data"
    }
   ],
   "source": [
    "#Double check with hard calculation\n",
    "(mean_Y1 <- sum(lalonde$ipw.ate * lalonde$re78 * lalonde$treat)/sum(lalonde$ipw.ate * lalonde$treat))\n",
    "(mean_Y0 <- sum(lalonde$ipw.ate * lalonde$re78 * (1 - lalonde$treat))/sum(lalonde$ipw.ate * (1 - lalonde$treat)))\n",
    "(mean_Y1 - mean_Y0)"
   ]
  },
  {
   "cell_type": "code",
   "execution_count": 5,
   "metadata": {},
   "outputs": [
    {
     "data": {
      "text/plain": [
       "\n",
       "Call:\n",
       "lm(formula = re78 ~ treat + pscore, data = lalonde)\n",
       "\n",
       "Residuals:\n",
       "   Min     1Q Median     3Q    Max \n",
       " -6771  -4509  -1768   2853  54162 \n",
       "\n",
       "Coefficients:\n",
       "            Estimate Std. Error t value Pr(>|t|)   \n",
       "(Intercept)   3317.1     1388.5   2.389   0.0173 * \n",
       "treat         1678.1      645.1   2.601   0.0096 **\n",
       "pscore        3093.5     3317.0   0.933   0.3515   \n",
       "---\n",
       "Signif. codes:  0 ‘***’ 0.001 ‘**’ 0.01 ‘*’ 0.05 ‘.’ 0.1 ‘ ’ 1\n",
       "\n",
       "Residual standard error: 6581 on 442 degrees of freedom\n",
       "Multiple R-squared:  0.01975,\tAdjusted R-squared:  0.01532 \n",
       "F-statistic: 4.453 on 2 and 442 DF,  p-value: 0.01217\n"
      ]
     },
     "metadata": {},
     "output_type": "display_data"
    }
   ],
   "source": [
    "#Propensity Score Regression\n",
    "ps.reg <- lm(re78 ~ treat + pscore, data=lalonde)\n",
    "summary(ps.reg)"
   ]
  },
  {
   "cell_type": "code",
   "execution_count": 57,
   "metadata": {},
   "outputs": [
    {
     "data": {
      "text/plain": [
       "\n",
       "Call:\n",
       "svyglm(formula = re78 ~ treat, design = design.att)\n",
       "\n",
       "Survey design:\n",
       "svydesign(ids = ~1, weights = ~ipw.att, dat = lalonde)\n",
       "\n",
       "Coefficients:\n",
       "            Estimate Std. Error t value Pr(>|t|)    \n",
       "(Intercept)   4542.7      367.7  12.354  < 2e-16 ***\n",
       "treat         1806.4      684.6   2.639  0.00862 ** \n",
       "---\n",
       "Signif. codes:  0 ‘***’ 0.001 ‘**’ 0.01 ‘*’ 0.05 ‘.’ 0.1 ‘ ’ 1\n",
       "\n",
       "(Dispersion parameter for gaussian family taken to be 45525732)\n",
       "\n",
       "Number of Fisher Scoring iterations: 2\n"
      ]
     },
     "metadata": {},
     "output_type": "display_data"
    }
   ],
   "source": [
    "#ATT Outcome Analysis\n",
    "lalonde$ipw.att <- ifelse(lalonde$treat==0, lalonde$pscore/(1-lalonde$pscore), 1)\n",
    "design.att <- svydesign(ids= ~1, weights= ~ipw.att, dat=lalonde)\n",
    "mod.ipw.att <- svyglm(re78 ~ treat, design=design.att)\n",
    "summary(mod.ipw.att)"
   ]
  },
  {
   "cell_type": "markdown",
   "metadata": {},
   "source": [
    "**QUESTION** What is the ATU (Average Treatment Effect in Untreated)?"
   ]
  }
 ],
 "metadata": {
  "kernelspec": {
   "display_name": "R",
   "language": "R",
   "name": "ir"
  },
  "language_info": {
   "codemirror_mode": "r",
   "file_extension": ".r",
   "mimetype": "text/x-r-source",
   "name": "R",
   "pygments_lexer": "r",
   "version": "3.4.1"
  }
 },
 "nbformat": 4,
 "nbformat_minor": 2
}
